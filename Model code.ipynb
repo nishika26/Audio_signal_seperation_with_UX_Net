{
  "cells": [
    {
      "cell_type": "markdown",
      "metadata": {
        "id": "view-in-github",
        "colab_type": "text"
      },
      "source": [
        "<a href=\"https://colab.research.google.com/github/nishika26/Audio_signal_seperation_with_UX_Net/blob/main/Encoder.ipynb\" target=\"_parent\"><img src=\"https://colab.research.google.com/assets/colab-badge.svg\" alt=\"Open In Colab\"/></a>"
      ]
    },
    {
      "cell_type": "code",
      "execution_count": null,
      "metadata": {
        "id": "P5uf8U_gphFC"
      },
      "outputs": [],
      "source": [
        "import warnings\n",
        "warnings.filterwarnings(\"ignore\")"
      ]
    },
    {
      "cell_type": "code",
      "execution_count": null,
      "metadata": {
        "id": "F1oQXdpi2MPM"
      },
      "outputs": [],
      "source": [
        "import librosa\n",
        "import numpy as np\n",
        "\n",
        "def load_audio_file(file_path, sr=None):\n",
        "    \"\"\"\n",
        "    Load an audio file using librosa.\n",
        "\n",
        "    Parameters:\n",
        "        file_path (str): Path to the audio file.\n",
        "        sr (int, optional): Target sampling rate. If None, uses the original sampling rate.\n",
        "\n",
        "    Returns:\n",
        "        audio_data (np.ndarray): The audio waveform.\n",
        "        sampling_rate (int): The sampling rate of the audio.\n",
        "    \"\"\"\n",
        "    audio_data, sampling_rate = librosa.load(file_path, sr=sr)\n",
        "    return audio_data, sampling_rate\n",
        "\n",
        "# Example usage:\n",
        "file_path = 'wsj0.wav'\n",
        "audio_data, sr = load_audio_file(file_path)\n",
        "\n",
        "# Optionally, resample the audio if needed:\n",
        "target_sr = 8000  # Replace with your desired sampling rate\n",
        "if sr != target_sr:\n",
        "    audio = librosa.resample(audio_data, orig_sr=sr, target_sr=target_sr)\n",
        "    sr = target_sr"
      ]
    },
    {
      "cell_type": "code",
      "execution_count": null,
      "metadata": {
        "colab": {
          "base_uri": "https://localhost:8080/"
        },
        "id": "VN2g_2RV47kD",
        "outputId": "c2f0a6bb-ad6b-422d-dad1-09c0f5d51f6a"
      },
      "outputs": [
        {
          "output_type": "execute_result",
          "data": {
            "text/plain": [
              "<tf.Tensor: shape=(60640,), dtype=float32, numpy=\n",
              "array([-1.6954324e-04, -3.3908651e-05, -3.3908651e-05, ...,\n",
              "        1.0545590e-02,  7.9685329e-03,  1.1189855e-02], dtype=float32)>"
            ]
          },
          "metadata": {},
          "execution_count": 3
        }
      ],
      "source": [
        "import tensorflow as tf\n",
        "\n",
        "def convert_to_tensor(data):\n",
        " tensor_data = tf.convert_to_tensor(data,dtype=tf.float32)\n",
        " return tensor_data\n",
        "\n",
        "tensor_audio=convert_to_tensor(audio_data)\n",
        "tensor_audio"
      ]
    },
    {
      "cell_type": "code",
      "execution_count": null,
      "metadata": {
        "colab": {
          "base_uri": "https://localhost:8080/"
        },
        "id": "ZzdHkV2_iBSx",
        "outputId": "81266dbe-73be-49ed-daa6-fcc5f39b3c27"
      },
      "outputs": [
        {
          "output_type": "execute_result",
          "data": {
            "text/plain": [
              "array([-1.6954324e-04, -3.3908651e-05, -3.3908651e-05, ...,\n",
              "        1.0545590e-02,  7.9685329e-03,  1.1189855e-02], dtype=float32)"
            ]
          },
          "metadata": {},
          "execution_count": 4
        }
      ],
      "source": [
        "import soundfile as sf\n",
        "\n",
        "def normalize_audio(data):\n",
        "  target_peak_amplitude = 1\n",
        "  current_peak_amplitude = max(abs(data))\n",
        "  if current_peak_amplitude > 0:\n",
        "        normalization_gain = target_peak_amplitude / current_peak_amplitude\n",
        "        normalized_audio_data = data * normalization_gain\n",
        "  else:\n",
        "       normalized_audio_data = data\n",
        "\n",
        "  return normalized_audio_data\n",
        "\n",
        "normalized_audio_data=normalize_audio(audio_data)\n",
        "\n",
        "\n",
        "output_file_path = 'normalized_audio.wav'\n",
        "sf.write(output_file_path, normalized_audio_data, sr)\n",
        "normalized_audio_data"
      ]
    },
    {
      "cell_type": "code",
      "execution_count": null,
      "metadata": {
        "colab": {
          "base_uri": "https://localhost:8080/"
        },
        "id": "xTng2uXr6PXE",
        "outputId": "7bf7179b-b82c-40ae-8eb3-3a0f9f284da0"
      },
      "outputs": [
        {
          "output_type": "stream",
          "name": "stdout",
          "text": [
            "tf.Tensor(\n",
            "[-1.6954324e-04 -3.3908651e-05 -3.3908651e-05 ...  1.0545590e-02\n",
            "  7.9685329e-03  1.1189855e-02], shape=(60640,), dtype=float32)\n"
          ]
        }
      ],
      "source": [
        "tensor_normalized_audio = convert_to_tensor(normalized_audio_data)\n",
        "print(tensor_normalized_audio)"
      ]
    },
    {
      "cell_type": "code",
      "execution_count": null,
      "metadata": {
        "colab": {
          "base_uri": "https://localhost:8080/"
        },
        "id": "DrGfehk0P_6m",
        "outputId": "d65f6c5b-448a-4534-f4f6-9e3208e87031"
      },
      "outputs": [
        {
          "output_type": "stream",
          "name": "stdout",
          "text": [
            "hop_size= 8\n",
            "window_size= 24\n"
          ]
        }
      ],
      "source": [
        "frequency_domain_duration_ms=2\n",
        "\n",
        "# Converting duration to seconds\n",
        "frequency_domain_duration_sec = frequency_domain_duration_ms / 1000.0\n",
        "\n",
        "# Sample rate of the audio signal (changing this to actual sample rate)\n",
        "sampling_rate = 8000\n",
        "\n",
        "# Computing the hop size based on overlap percentage (50% overlap as an example)\n",
        "overlap_percentage = 0.5\n",
        "hop_size_sec = frequency_domain_duration_sec * (1 - overlap_percentage)\n",
        "\n",
        "# Converting the hop size to samples\n",
        "hop_size_samples = int(hop_size_sec * sampling_rate)\n",
        "\n",
        "# Determining the window size (sum of hop size and samples corresponding to 2 ms in the frequency domain)\n",
        "window_size_samples = hop_size_samples + int(frequency_domain_duration_sec * sampling_rate)\n",
        "\n",
        "hop_size=hop_size_samples\n",
        "window_size=window_size_samples\n",
        "\n",
        "print(\"hop_size=\",hop_size)\n",
        "print(\"window_size=\",window_size)"
      ]
    },
    {
      "cell_type": "code",
      "execution_count": null,
      "metadata": {
        "id": "q_c8RTQch0vz"
      },
      "outputs": [],
      "source": [
        "import tensorflow as tf\n",
        "from tensorflow.keras import layers\n",
        "from tensorflow.keras.layers import Layer"
      ]
    },
    {
      "cell_type": "code",
      "execution_count": null,
      "metadata": {
        "id": "7YsUNTF_h6if"
      },
      "outputs": [],
      "source": [
        "import scipy.signal\n",
        "class STFTLayer(layers.Layer):\n",
        "   def __init__(self,window_size,hop_size,n_basis_signals):\n",
        "        super(STFTLayer, self).__init__()\n",
        "        self.window_size = window_size\n",
        "        self.hop_size = hop_size\n",
        "        self.n_basis_signals=n_basis_signals\n",
        "\n",
        "\n",
        "   def call(self, inputs):\n",
        "        num_samples = len(inputs)\n",
        "        num_frames = 1 + (num_samples - self.window_size) // self.hop_size\n",
        "\n",
        "       # Initializing the STFT result\n",
        "        stft_result = np.zeros((self.n_basis_signals, num_frames), dtype=np.complex)\n",
        "\n",
        "       # Generating the basis signals (e.g., Fourier basis)\n",
        "        basis_signals = np.fft.fft(np.eye(self.n_basis_signals, self.window_size))\n",
        "\n",
        "        for i in range(num_frames):\n",
        "        # Extracting the current frame\n",
        "          frame = inputs[i * self.hop_size : i * self.hop_size + self.window_size]\n",
        "\n",
        "        # Applying the windowing function (Hamming window)\n",
        "          window = scipy.signal.hamming(self.window_size)\n",
        "          windowed_frame = frame * window\n",
        "\n",
        "        # Computing the DFT for the current frame\n",
        "          dft_result = np.fft.fft(windowed_frame)\n",
        "\n",
        "        # Project the DFT result onto the basis signals to get STFT representation\n",
        "          stft_result[:, i] = np.dot(basis_signals, dft_result)\n",
        "          return stft_result\n",
        "\n",
        "# Create an instance of the FrameTransformLayer\n",
        "window_size=24\n",
        "hop_siz=8\n",
        "n_basis_signals=128\n",
        "STFT_layer = STFTLayer(window_size,hop_size,n_basis_signals)\n",
        "output_STFT = STFT_layer(tensor_normalized_audio)"
      ]
    },
    {
      "cell_type": "code",
      "execution_count": null,
      "metadata": {
        "id": "cFJxeeFh1dAX"
      },
      "outputs": [],
      "source": [
        "tensor_STFT = convert_to_tensor(output_STFT)\n",
        "tensor_STFT= tf.expand_dims(tensor_STFT, axis=0)\n",
        "TENSOR_STFT = tf.expand_dims(tensor_STFT, axis=-1)"
      ]
    },
    {
      "cell_type": "code",
      "execution_count": null,
      "metadata": {
        "id": "Uawg_oal1FBN"
      },
      "outputs": [],
      "source": [
        "output_encoder= tf.nn.relu(TENSOR_STFT)\n",
        "E=output_encoder"
      ]
    },
    {
      "cell_type": "code",
      "execution_count": null,
      "metadata": {
        "colab": {
          "base_uri": "https://localhost:8080/"
        },
        "id": "1qhqMY6R0Q8H",
        "outputId": "8282a46c-00d5-468a-a80b-159fc4c2045c"
      },
      "outputs": [
        {
          "output_type": "execute_result",
          "data": {
            "text/plain": [
              "128"
            ]
          },
          "metadata": {},
          "execution_count": 11
        }
      ],
      "source": [
        "import numpy as np\n",
        "\n",
        "def compute_n_fft(n_basis_signals):\n",
        "    n_fft = 2 ** int(np.ceil(np.log2(n_basis_signals)))\n",
        "    return n_fft\n",
        "\n",
        "n_fft=compute_n_fft(128)\n",
        "n_fft"
      ]
    },
    {
      "cell_type": "code",
      "execution_count": null,
      "metadata": {
        "colab": {
          "base_uri": "https://localhost:8080/",
          "height": 607
        },
        "id": "fkll09fBvkAT",
        "outputId": "6ba41863-bb64-4171-99b0-731599328fa9"
      },
      "outputs": [
        {
          "output_type": "display_data",
          "data": {
            "text/plain": [
              "<Figure size 1000x600 with 2 Axes>"
            ],
            "image/png": "[encoded data removed]"
          },
          "metadata": {}
        }
      ],
      "source": [
        "import librosa.display\n",
        "import matplotlib.pyplot as plt\n",
        "\n",
        "n_fft=128\n",
        "hop_size_samples=8\n",
        "\n",
        "# Convert the frame size to samples\n",
        "frame_size_ms = 2  # Frame size in milliseconds\n",
        "frame_size_sec = frame_size_ms / 1000.0\n",
        "frame_size_samples = int(frame_size_sec * sr)\n",
        "\n",
        "# Choose the hop size (50% or 75% of the frame size)\n",
        "hop_size_samples = int(frame_size_samples * 0.5)  # You can adjust the overlap as needed\n",
        "\n",
        "# Compute the STFT\n",
        "stft_result = librosa.stft(normalized_audio_data, n_fft=frame_size_samples, hop_length=hop_size_samples)\n",
        "\n",
        "# Visualize the STFT\n",
        "plt.figure(figsize=(10, 6))\n",
        "librosa.display.specshow(librosa.amplitude_to_db(stft_result, ref=np.max),\n",
        "                         sr=sr, hop_length=hop_size_samples, x_axis='time', y_axis='linear')\n",
        "plt.colorbar(format='%+2.0f dB')\n",
        "plt.title('STFT with a Frame Size of 2 ms')\n",
        "plt.xlabel('Time (s)')\n",
        "plt.ylabel('Frequency (Hz)')\n",
        "plt.tight_layout()\n",
        "plt.show()"
      ]
    },
    {
      "cell_type": "markdown",
      "metadata": {
        "id": "Y7xhNqkX79hd"
      },
      "source": [
        "\n",
        "#MIXER MODULE\n"
      ]
    },
    {
      "cell_type": "code",
      "execution_count": null,
      "metadata": {
        "id": "MjPNOp2k6pMw"
      },
      "outputs": [],
      "source": [
        "import tensorflow as tf\n",
        "from tensorflow.keras import layers\n",
        "\n",
        "M = 4\n",
        "\n",
        "conv_layer = layers.Conv2D(M, kernel_size=(3, 3), padding='same')\n",
        "batch_norm_layer = layers.BatchNormalization()\n",
        "\n",
        "prelu_layer = layers.PReLU()\n",
        "\n",
        "\n",
        "E = output_encoder\n",
        "\n",
        "\n",
        "x1 = conv_layer(E)\n",
        "x1 = batch_norm_layer(x1)\n",
        "EM = prelu_layer(x1)"
      ]
    },
    {
      "cell_type": "code",
      "execution_count": null,
      "metadata": {
        "id": "tD2ruEo88J8D",
        "colab": {
          "base_uri": "https://localhost:8080/"
        },
        "outputId": "3547966a-eb67-447e-ac09-5b099c8a6614"
      },
      "outputs": [
        {
          "output_type": "execute_result",
          "data": {
            "text/plain": [
              "<tf.Tensor: shape=(1, 128, 7578, 2), dtype=float32, numpy=\n",
              "array([[[[0.0000000e+00, 1.1769585e-05],\n",
              "         [1.2660670e-05, 4.5599802e-05],\n",
              "         [9.9132585e-06, 1.4007728e-05],\n",
              "         ...,\n",
              "         [0.0000000e+00, 0.0000000e+00],\n",
              "         [0.0000000e+00, 0.0000000e+00],\n",
              "         [0.0000000e+00, 0.0000000e+00]],\n",
              "\n",
              "        [[0.0000000e+00, 0.0000000e+00],\n",
              "         [3.3401448e-06, 8.3397332e-05],\n",
              "         [3.6815909e-06, 8.4084546e-05],\n",
              "         ...,\n",
              "         [0.0000000e+00, 0.0000000e+00],\n",
              "         [0.0000000e+00, 0.0000000e+00],\n",
              "         [0.0000000e+00, 0.0000000e+00]],\n",
              "\n",
              "        [[1.0887433e-04, 5.1115396e-05],\n",
              "         [1.4071484e-05, 1.5127214e-04],\n",
              "         [0.0000000e+00, 3.8148908e-05],\n",
              "         ...,\n",
              "         [0.0000000e+00, 0.0000000e+00],\n",
              "         [0.0000000e+00, 0.0000000e+00],\n",
              "         [0.0000000e+00, 0.0000000e+00]],\n",
              "\n",
              "        ...,\n",
              "\n",
              "        [[0.0000000e+00, 0.0000000e+00],\n",
              "         [0.0000000e+00, 0.0000000e+00],\n",
              "         [0.0000000e+00, 0.0000000e+00],\n",
              "         ...,\n",
              "         [0.0000000e+00, 0.0000000e+00],\n",
              "         [0.0000000e+00, 0.0000000e+00],\n",
              "         [0.0000000e+00, 0.0000000e+00]],\n",
              "\n",
              "        [[0.0000000e+00, 0.0000000e+00],\n",
              "         [0.0000000e+00, 0.0000000e+00],\n",
              "         [0.0000000e+00, 0.0000000e+00],\n",
              "         ...,\n",
              "         [0.0000000e+00, 0.0000000e+00],\n",
              "         [0.0000000e+00, 0.0000000e+00],\n",
              "         [0.0000000e+00, 0.0000000e+00]],\n",
              "\n",
              "        [[0.0000000e+00, 0.0000000e+00],\n",
              "         [0.0000000e+00, 0.0000000e+00],\n",
              "         [0.0000000e+00, 0.0000000e+00],\n",
              "         ...,\n",
              "         [0.0000000e+00, 0.0000000e+00],\n",
              "         [0.0000000e+00, 0.0000000e+00],\n",
              "         [0.0000000e+00, 0.0000000e+00]]]], dtype=float32)>"
            ]
          },
          "metadata": {},
          "execution_count": 14
        }
      ],
      "source": [
        "C = 2\n",
        "\n",
        "conv_layer = layers.Conv2D(C, kernel_size=(3, 3), padding='same')\n",
        "batch_norm_layer = layers.BatchNormalization()\n",
        "\n",
        "prelu_layer = layers.PReLU()\n",
        "\n",
        "\n",
        "x2 = conv_layer(EM)\n",
        "x = batch_norm_layer(x2)\n",
        "EC = prelu_layer(x2)\n",
        "EC"
      ]
    },
    {
      "cell_type": "markdown",
      "source": [
        "#SEPERATION MODULE"
      ],
      "metadata": {
        "id": "tBVYgWxJ-358"
      }
    },
    {
      "cell_type": "code",
      "metadata": {
        "id": "_4MYB1pafSfI",
        "colab": {
          "base_uri": "https://localhost:8080/",
          "height": 218
        },
        "outputId": "c41b6841-b2ab-4397-8899-f5798f33a49d"
      },
      "source": [
        " def wave_u_net(num_initial_filters = 4, num_layers = 5, kernel_size = 9,\n",
        "                 num_channels = 2, output_filter_size = 1, padding = \"same\", input_size = 1*128*7578*2):\n",
        "\n",
        "  # `enc_outputs` stores the downsampled outputs to re-use during upsampling.\n",
        "  enc_outputs = []\n",
        "\n",
        "  # `raw_input` is the input to the network\n",
        "  X = raw_input\n",
        "\n",
        "  # Down sampling\n",
        "  for i in range(num_layers):\n",
        "    X = tf.keras.layers.Conv2D(filters=num_initial_filters + (num_initial_filters * i),\n",
        "                          kernel_size=kernel_size,strides=1,\n",
        "                          padding=padding, name=\"Down_Conv_\"+str(i))(X)\n",
        "    Layer_norm_layer = layers.LayerNormalization()\n",
        "    X=Layer_norm_layer(name=\"Down_Conv_Activ_\"+str(num_layers))(X)\n",
        "    X = tf.keras.layers.PReLU(name=\"Down_Conv_Activ_\"+str(num_layers))(X)\n",
        "\n",
        "    enc_outputs.append(X)\n",
        "\n",
        "    X = tf.keras.layers.Lambda(lambda x: x[:,::2,:,:], name=\"Decimate_\"+str(i))(X)\n",
        "\n",
        "    X = tf.keras.layers.Conv2D(filters=num_initial_filters + (num_initial_filters * num_layers),\n",
        "                          kernel_size=kernel_size,strides=1,\n",
        "                          padding=padding, name=\"Down_Conv_\"+str(num_layers))(X)\n",
        "    Layer_norm_layer = layers.LayerNormalization()\n",
        "    X=Layer_norm_layer(name=\"Down_Conv_Activ_\"+str(i))(X)\n",
        "    X = tf.keras.layers.PReLU(name=\"Down_Conv_Activ_\"+str(i))(X)\n",
        "\n",
        " \"\"\" Up sampling\n",
        "\n",
        "    for i in range(num_layers):\n",
        "\n",
        "             upscale_factor = (1, 2)\n",
        "             upsample_lambda = lambda x: tf.image.resize(x, [x.shape[1], x.shape[2] * upscale_factor[1]])\n",
        "             upsampled_X = upsample_lambda(X)\"\"\"\n",
        "\n",
        "\n",
        "\n",
        "\n",
        "\n"
      ],
      "execution_count": null,
      "outputs": [
        {
          "output_type": "error",
          "ename": "NameError",
          "evalue": "ignored",
          "traceback": [
            "\u001b[0;31m---------------------------------------------------------------------------\u001b[0m",
            "\u001b[0;31mNameError\u001b[0m                                 Traceback (most recent call last)",
            "\u001b[0;32m<ipython-input-17-4e1270da3a52>\u001b[0m in \u001b[0;36m<cell line: 40>\u001b[0;34m()\u001b[0m\n\u001b[1;32m     38\u001b[0m \u001b[0;34m\u001b[0m\u001b[0m\n\u001b[1;32m     39\u001b[0m \u001b[0;34m\u001b[0m\u001b[0m\n\u001b[0;32m---> 40\u001b[0;31m \u001b[0mX\u001b[0m\u001b[0;34m\u001b[0m\u001b[0;34m\u001b[0m\u001b[0m\n\u001b[0m\u001b[1;32m     41\u001b[0m \u001b[0;34m\u001b[0m\u001b[0m\n",
            "\u001b[0;31mNameError\u001b[0m: name 'X' is not defined"
          ]
        }
      ]
    }
  ],
  "metadata": {
    "colab": {
      "provenance": [],
      "authorship_tag": "ABX9TyOiEDMh1ao4FJze8FQum7/0",
      "include_colab_link": true
    },
    "kernelspec": {
      "display_name": "Python 3",
      "name": "python3"
    },
    "language_info": {
      "name": "python"
    }
  },
  "nbformat": 4,
  "nbformat_minor": 0
}
